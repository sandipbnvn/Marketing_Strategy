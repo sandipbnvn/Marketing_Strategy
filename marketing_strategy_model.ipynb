{
 "cells": [
  {
   "cell_type": "code",
   "execution_count": 1,
   "id": "a6cafd49",
   "metadata": {
    "_cell_guid": "b1076dfc-b9ad-4769-8c92-a6c4dae69d19",
    "_uuid": "8f2839f25d086af736a60e9eeb907d3b93b6e0e5",
    "execution": {
     "iopub.execute_input": "2022-12-16T04:44:03.295121Z",
     "iopub.status.busy": "2022-12-16T04:44:03.294584Z",
     "iopub.status.idle": "2022-12-16T04:44:03.308860Z",
     "shell.execute_reply": "2022-12-16T04:44:03.307738Z"
    },
    "papermill": {
     "duration": 0.03409,
     "end_time": "2022-12-16T04:44:03.312555",
     "exception": false,
     "start_time": "2022-12-16T04:44:03.278465",
     "status": "completed"
    },
    "tags": []
   },
   "outputs": [
    {
     "name": "stdout",
     "output_type": "stream",
     "text": [
      "/kaggle/input/marketing-strategy-personalised-offer/sample.csv\n",
      "/kaggle/input/marketing-strategy-personalised-offer/train_data.csv\n",
      "/kaggle/input/marketing-strategy-personalised-offer/test_data.csv\n"
     ]
    }
   ],
   "source": [
    "# This Python 3 environment comes with many helpful analytics libraries installed\n",
    "# It is defined by the kaggle/python Docker image: https://github.com/kaggle/docker-python\n",
    "# For example, here's several helpful packages to load\n",
    "\n",
    "import numpy as np # linear algebra\n",
    "import pandas as pd # data processing, CSV file I/O (e.g. pd.read_csv)\n",
    "\n",
    "# Input data files are available in the read-only \"../input/\" directory\n",
    "# For example, running this (by clicking run or pressing Shift+Enter) will list all files under the input directory\n",
    "\n",
    "import os\n",
    "for dirname, _, filenames in os.walk('/kaggle/input'):\n",
    "    for filename in filenames:\n",
    "        print(os.path.join(dirname, filename))\n",
    "\n",
    "# You can write up to 20GB to the current directory (/kaggle/working/) that gets preserved as output when you create a version using \"Save & Run All\" \n",
    "# You can also write temporary files to /kaggle/temp/, but they won't be saved outside of the current session"
   ]
  },
  {
   "cell_type": "code",
   "execution_count": 2,
   "id": "73bb388a",
   "metadata": {
    "execution": {
     "iopub.execute_input": "2022-12-16T04:44:03.341378Z",
     "iopub.status.busy": "2022-12-16T04:44:03.340498Z",
     "iopub.status.idle": "2022-12-16T04:44:03.522358Z",
     "shell.execute_reply": "2022-12-16T04:44:03.521165Z"
    },
    "papermill": {
     "duration": 0.199295,
     "end_time": "2022-12-16T04:44:03.525363",
     "exception": false,
     "start_time": "2022-12-16T04:44:03.326068",
     "status": "completed"
    },
    "tags": []
   },
   "outputs": [],
   "source": [
    "train_data = pd.read_csv('/kaggle/input/marketing-strategy-personalised-offer/train_data.csv')\n",
    "test_data = pd.read_csv('/kaggle/input/marketing-strategy-personalised-offer/test_data.csv')\n",
    "sample_data = pd.read_csv('/kaggle/input/marketing-strategy-personalised-offer/sample.csv')"
   ]
  },
  {
   "cell_type": "code",
   "execution_count": 3,
   "id": "a1f5089e",
   "metadata": {
    "execution": {
     "iopub.execute_input": "2022-12-16T04:44:03.555770Z",
     "iopub.status.busy": "2022-12-16T04:44:03.555190Z",
     "iopub.status.idle": "2022-12-16T04:44:03.569596Z",
     "shell.execute_reply": "2022-12-16T04:44:03.568484Z"
    },
    "papermill": {
     "duration": 0.034643,
     "end_time": "2022-12-16T04:44:03.574688",
     "exception": false,
     "start_time": "2022-12-16T04:44:03.540045",
     "status": "completed"
    },
    "tags": []
   },
   "outputs": [
    {
     "data": {
      "text/plain": [
       "(12379, 31)"
      ]
     },
     "execution_count": 3,
     "metadata": {},
     "output_type": "execute_result"
    }
   ],
   "source": [
    "train_data.shape"
   ]
  },
  {
   "cell_type": "code",
   "execution_count": 4,
   "id": "f22eda00",
   "metadata": {
    "execution": {
     "iopub.execute_input": "2022-12-16T04:44:03.614005Z",
     "iopub.status.busy": "2022-12-16T04:44:03.613321Z",
     "iopub.status.idle": "2022-12-16T04:44:03.620569Z",
     "shell.execute_reply": "2022-12-16T04:44:03.619587Z"
    },
    "papermill": {
     "duration": 0.029483,
     "end_time": "2022-12-16T04:44:03.623099",
     "exception": false,
     "start_time": "2022-12-16T04:44:03.593616",
     "status": "completed"
    },
    "tags": []
   },
   "outputs": [
    {
     "data": {
      "text/plain": [
       "Index(['offer expiration', 'income_range', 'no_visited_Cold drinks',\n",
       "       'travelled_more_than_15mins_for_offer', 'Restaur_spend_less_than20',\n",
       "       'Marital Status', 'restaurant type', 'age',\n",
       "       'Prefer western over chinese', 'travelled_more_than_25mins_for_offer',\n",
       "       'travelled_more_than_5mins_for_offer', 'no_visited_bars', 'gender',\n",
       "       'car', 'restuarant_same_direction_house', 'Cooks regularly',\n",
       "       'Customer type', 'Qualification', 'is foodie', 'no_Take-aways',\n",
       "       'Job/Job Industry', 'restuarant_opposite_direction_house',\n",
       "       'has Children', 'visit restaurant with rating (avg)', 'temperature',\n",
       "       'Restaur_spend_greater_than20', 'Travel Time', 'Climate',\n",
       "       'drop location', 'Prefer home food', 'Offer Accepted'],\n",
       "      dtype='object')"
      ]
     },
     "execution_count": 4,
     "metadata": {},
     "output_type": "execute_result"
    }
   ],
   "source": [
    "train_data.columns"
   ]
  },
  {
   "cell_type": "code",
   "execution_count": 5,
   "id": "1b24e4fe",
   "metadata": {
    "execution": {
     "iopub.execute_input": "2022-12-16T04:44:03.651657Z",
     "iopub.status.busy": "2022-12-16T04:44:03.650715Z",
     "iopub.status.idle": "2022-12-16T04:44:03.695835Z",
     "shell.execute_reply": "2022-12-16T04:44:03.694564Z"
    },
    "papermill": {
     "duration": 0.062734,
     "end_time": "2022-12-16T04:44:03.698772",
     "exception": false,
     "start_time": "2022-12-16T04:44:03.636038",
     "status": "completed"
    },
    "tags": []
   },
   "outputs": [
    {
     "data": {
      "text/html": [
       "<div>\n",
       "<style scoped>\n",
       "    .dataframe tbody tr th:only-of-type {\n",
       "        vertical-align: middle;\n",
       "    }\n",
       "\n",
       "    .dataframe tbody tr th {\n",
       "        vertical-align: top;\n",
       "    }\n",
       "\n",
       "    .dataframe thead th {\n",
       "        text-align: right;\n",
       "    }\n",
       "</style>\n",
       "<table border=\"1\" class=\"dataframe\">\n",
       "  <thead>\n",
       "    <tr style=\"text-align: right;\">\n",
       "      <th></th>\n",
       "      <th>offer expiration</th>\n",
       "      <th>income_range</th>\n",
       "      <th>no_visited_Cold drinks</th>\n",
       "      <th>travelled_more_than_15mins_for_offer</th>\n",
       "      <th>Restaur_spend_less_than20</th>\n",
       "      <th>Marital Status</th>\n",
       "      <th>restaurant type</th>\n",
       "      <th>age</th>\n",
       "      <th>Prefer western over chinese</th>\n",
       "      <th>travelled_more_than_25mins_for_offer</th>\n",
       "      <th>...</th>\n",
       "      <th>restuarant_opposite_direction_house</th>\n",
       "      <th>has Children</th>\n",
       "      <th>visit restaurant with rating (avg)</th>\n",
       "      <th>temperature</th>\n",
       "      <th>Restaur_spend_greater_than20</th>\n",
       "      <th>Travel Time</th>\n",
       "      <th>Climate</th>\n",
       "      <th>drop location</th>\n",
       "      <th>Prefer home food</th>\n",
       "      <th>Offer Accepted</th>\n",
       "    </tr>\n",
       "  </thead>\n",
       "  <tbody>\n",
       "    <tr>\n",
       "      <th>0</th>\n",
       "      <td>2days</td>\n",
       "      <td>₹100000 or More</td>\n",
       "      <td>4~8</td>\n",
       "      <td>1</td>\n",
       "      <td>less1</td>\n",
       "      <td>Married partner</td>\n",
       "      <td>4 star restaurant</td>\n",
       "      <td>36</td>\n",
       "      <td>0</td>\n",
       "      <td>0</td>\n",
       "      <td>...</td>\n",
       "      <td>0</td>\n",
       "      <td>0</td>\n",
       "      <td>4</td>\n",
       "      <td>67</td>\n",
       "      <td>less1</td>\n",
       "      <td>22</td>\n",
       "      <td>Spring</td>\n",
       "      <td>Location B</td>\n",
       "      <td>0</td>\n",
       "      <td>No</td>\n",
       "    </tr>\n",
       "    <tr>\n",
       "      <th>1</th>\n",
       "      <td>2days</td>\n",
       "      <td>₹87500 - ₹99999</td>\n",
       "      <td>4~8</td>\n",
       "      <td>0</td>\n",
       "      <td>4~8</td>\n",
       "      <td>Married partner</td>\n",
       "      <td>Take-away restaurant</td>\n",
       "      <td>50plus</td>\n",
       "      <td>0</td>\n",
       "      <td>0</td>\n",
       "      <td>...</td>\n",
       "      <td>0</td>\n",
       "      <td>1</td>\n",
       "      <td>3</td>\n",
       "      <td>89</td>\n",
       "      <td>1~3</td>\n",
       "      <td>18</td>\n",
       "      <td>Summer</td>\n",
       "      <td>Location B</td>\n",
       "      <td>0</td>\n",
       "      <td>Yes</td>\n",
       "    </tr>\n",
       "    <tr>\n",
       "      <th>2</th>\n",
       "      <td>2days</td>\n",
       "      <td>₹87500 - ₹99999</td>\n",
       "      <td>less1</td>\n",
       "      <td>1</td>\n",
       "      <td>1~3</td>\n",
       "      <td>Single</td>\n",
       "      <td>Cold drinks</td>\n",
       "      <td>26</td>\n",
       "      <td>1</td>\n",
       "      <td>0</td>\n",
       "      <td>...</td>\n",
       "      <td>1</td>\n",
       "      <td>1</td>\n",
       "      <td>4</td>\n",
       "      <td>67</td>\n",
       "      <td>less1</td>\n",
       "      <td>7</td>\n",
       "      <td>Winter</td>\n",
       "      <td>Location A</td>\n",
       "      <td>1</td>\n",
       "      <td>Yes</td>\n",
       "    </tr>\n",
       "    <tr>\n",
       "      <th>3</th>\n",
       "      <td>10hours</td>\n",
       "      <td>₹37500 - ₹49999</td>\n",
       "      <td>less1</td>\n",
       "      <td>0</td>\n",
       "      <td>1~3</td>\n",
       "      <td>Single</td>\n",
       "      <td>Take-away restaurant</td>\n",
       "      <td>46</td>\n",
       "      <td>1</td>\n",
       "      <td>0</td>\n",
       "      <td>...</td>\n",
       "      <td>0</td>\n",
       "      <td>1</td>\n",
       "      <td>3</td>\n",
       "      <td>89</td>\n",
       "      <td>1~3</td>\n",
       "      <td>7</td>\n",
       "      <td>Summer</td>\n",
       "      <td>Location C</td>\n",
       "      <td>0</td>\n",
       "      <td>No</td>\n",
       "    </tr>\n",
       "    <tr>\n",
       "      <th>4</th>\n",
       "      <td>2days</td>\n",
       "      <td>₹100000 or More</td>\n",
       "      <td>never</td>\n",
       "      <td>1</td>\n",
       "      <td>1~3</td>\n",
       "      <td>Single</td>\n",
       "      <td>4 star restaurant</td>\n",
       "      <td>21</td>\n",
       "      <td>0</td>\n",
       "      <td>1</td>\n",
       "      <td>...</td>\n",
       "      <td>1</td>\n",
       "      <td>0</td>\n",
       "      <td>3</td>\n",
       "      <td>40</td>\n",
       "      <td>less1</td>\n",
       "      <td>7</td>\n",
       "      <td>Summer</td>\n",
       "      <td>Location C</td>\n",
       "      <td>0</td>\n",
       "      <td>No</td>\n",
       "    </tr>\n",
       "  </tbody>\n",
       "</table>\n",
       "<p>5 rows × 31 columns</p>\n",
       "</div>"
      ],
      "text/plain": [
       "  offer expiration     income_range no_visited_Cold drinks  \\\n",
       "0            2days  ₹100000 or More                    4~8   \n",
       "1            2days  ₹87500 - ₹99999                    4~8   \n",
       "2            2days  ₹87500 - ₹99999                  less1   \n",
       "3          10hours  ₹37500 - ₹49999                  less1   \n",
       "4            2days  ₹100000 or More                  never   \n",
       "\n",
       "   travelled_more_than_15mins_for_offer Restaur_spend_less_than20  \\\n",
       "0                                     1                     less1   \n",
       "1                                     0                       4~8   \n",
       "2                                     1                       1~3   \n",
       "3                                     0                       1~3   \n",
       "4                                     1                       1~3   \n",
       "\n",
       "    Marital Status       restaurant type     age  Prefer western over chinese  \\\n",
       "0  Married partner     4 star restaurant      36                            0   \n",
       "1  Married partner  Take-away restaurant  50plus                            0   \n",
       "2           Single           Cold drinks      26                            1   \n",
       "3           Single  Take-away restaurant      46                            1   \n",
       "4           Single     4 star restaurant      21                            0   \n",
       "\n",
       "   travelled_more_than_25mins_for_offer  ...  \\\n",
       "0                                     0  ...   \n",
       "1                                     0  ...   \n",
       "2                                     0  ...   \n",
       "3                                     0  ...   \n",
       "4                                     1  ...   \n",
       "\n",
       "   restuarant_opposite_direction_house has Children  \\\n",
       "0                                    0            0   \n",
       "1                                    0            1   \n",
       "2                                    1            1   \n",
       "3                                    0            1   \n",
       "4                                    1            0   \n",
       "\n",
       "  visit restaurant with rating (avg) temperature  \\\n",
       "0                                  4          67   \n",
       "1                                  3          89   \n",
       "2                                  4          67   \n",
       "3                                  3          89   \n",
       "4                                  3          40   \n",
       "\n",
       "   Restaur_spend_greater_than20  Travel Time Climate drop location  \\\n",
       "0                         less1           22  Spring    Location B   \n",
       "1                           1~3           18  Summer    Location B   \n",
       "2                         less1            7  Winter    Location A   \n",
       "3                           1~3            7  Summer    Location C   \n",
       "4                         less1            7  Summer    Location C   \n",
       "\n",
       "   Prefer home food Offer Accepted  \n",
       "0                 0             No  \n",
       "1                 0            Yes  \n",
       "2                 1            Yes  \n",
       "3                 0             No  \n",
       "4                 0             No  \n",
       "\n",
       "[5 rows x 31 columns]"
      ]
     },
     "execution_count": 5,
     "metadata": {},
     "output_type": "execute_result"
    }
   ],
   "source": [
    "train_data.head()"
   ]
  },
  {
   "cell_type": "code",
   "execution_count": 6,
   "id": "c0d5e42c",
   "metadata": {
    "execution": {
     "iopub.execute_input": "2022-12-16T04:44:03.728088Z",
     "iopub.status.busy": "2022-12-16T04:44:03.726839Z",
     "iopub.status.idle": "2022-12-16T04:44:03.760723Z",
     "shell.execute_reply": "2022-12-16T04:44:03.759181Z"
    },
    "papermill": {
     "duration": 0.051302,
     "end_time": "2022-12-16T04:44:03.763538",
     "exception": false,
     "start_time": "2022-12-16T04:44:03.712236",
     "status": "completed"
    },
    "tags": []
   },
   "outputs": [
    {
     "name": "stdout",
     "output_type": "stream",
     "text": [
      "Column Name: no_visited_Cold drinks, NA values: 198\n",
      "Column Name: Restaur_spend_less_than20, NA values: 121\n",
      "Column Name: no_visited_bars, NA values: 93\n",
      "Column Name: car, NA values: 12268\n",
      "Column Name: no_Take-aways, NA values: 144\n",
      "Column Name: Restaur_spend_greater_than20, NA values: 160\n"
     ]
    }
   ],
   "source": [
    "for column in train_data.columns:\n",
    "    if train_data[column].isna().sum() != 0:\n",
    "        print(f'Column Name: {column}, NA values: {train_data[column].isna().sum()}')"
   ]
  },
  {
   "cell_type": "code",
   "execution_count": 7,
   "id": "d5807ec5",
   "metadata": {
    "execution": {
     "iopub.execute_input": "2022-12-16T04:44:03.791523Z",
     "iopub.status.busy": "2022-12-16T04:44:03.791123Z",
     "iopub.status.idle": "2022-12-16T04:44:03.798209Z",
     "shell.execute_reply": "2022-12-16T04:44:03.797089Z"
    },
    "papermill": {
     "duration": 0.023871,
     "end_time": "2022-12-16T04:44:03.800515",
     "exception": false,
     "start_time": "2022-12-16T04:44:03.776644",
     "status": "completed"
    },
    "tags": []
   },
   "outputs": [],
   "source": [
    "org_cols = ['offer expiration', 'income_range', 'no_visited_Cold drinks',\n",
    "       'travelled_more_than_15mins_for_offer', 'Restaur_spend_less_than20',\n",
    "       'Marital Status', 'restaurant type', 'age',\n",
    "       'Prefer western over chinese', 'travelled_more_than_25mins_for_offer',\n",
    "       'travelled_more_than_5mins_for_offer', 'no_visited_bars', 'gender',\n",
    "       'car', 'restuarant_same_direction_house', 'Cooks regularly',\n",
    "       'Customer type', 'Qualification', 'is foodie', 'no_Take-aways',\n",
    "       'Job/Job Industry', 'restuarant_opposite_direction_house',\n",
    "       'has Children', 'visit restaurant with rating (avg)', 'temperature',\n",
    "       'Restaur_spend_greater_than20', 'Travel Time', 'Climate',\n",
    "       'drop location', 'Prefer home food', 'Offer Accepted']"
   ]
  },
  {
   "cell_type": "code",
   "execution_count": 8,
   "id": "8aa78a33",
   "metadata": {
    "execution": {
     "iopub.execute_input": "2022-12-16T04:44:03.829499Z",
     "iopub.status.busy": "2022-12-16T04:44:03.828668Z",
     "iopub.status.idle": "2022-12-16T04:44:03.841550Z",
     "shell.execute_reply": "2022-12-16T04:44:03.840610Z"
    },
    "papermill": {
     "duration": 0.030218,
     "end_time": "2022-12-16T04:44:03.844110",
     "exception": false,
     "start_time": "2022-12-16T04:44:03.813892",
     "status": "completed"
    },
    "tags": []
   },
   "outputs": [],
   "source": [
    "train_data = train_data[['offer expiration', 'income_range', 'no_visited_Cold drinks',\n",
    "       'travelled_more_than_15mins_for_offer', 'Restaur_spend_less_than20',\n",
    "       'Marital Status', 'restaurant type', 'age',\n",
    "       'Prefer western over chinese', 'travelled_more_than_25mins_for_offer',\n",
    "       'travelled_more_than_5mins_for_offer', 'no_visited_bars', 'gender','restuarant_same_direction_house', 'Cooks regularly',\n",
    "       'Customer type', 'Qualification', 'is foodie', 'no_Take-aways',\n",
    "       'Job/Job Industry', 'restuarant_opposite_direction_house',\n",
    "       'has Children', 'visit restaurant with rating (avg)', 'temperature',\n",
    "       'Restaur_spend_greater_than20', 'Travel Time', 'Climate',\n",
    "       'drop location', 'Prefer home food', 'Offer Accepted']]\n",
    "\n",
    "## dropped 'car' column becuase of large number of missing values"
   ]
  },
  {
   "cell_type": "code",
   "execution_count": 9,
   "id": "da26a0fc",
   "metadata": {
    "execution": {
     "iopub.execute_input": "2022-12-16T04:44:03.874329Z",
     "iopub.status.busy": "2022-12-16T04:44:03.873478Z",
     "iopub.status.idle": "2022-12-16T04:44:03.879684Z",
     "shell.execute_reply": "2022-12-16T04:44:03.878780Z"
    },
    "papermill": {
     "duration": 0.024657,
     "end_time": "2022-12-16T04:44:03.881985",
     "exception": false,
     "start_time": "2022-12-16T04:44:03.857328",
     "status": "completed"
    },
    "tags": []
   },
   "outputs": [
    {
     "data": {
      "text/plain": [
       "(12379, 30)"
      ]
     },
     "execution_count": 9,
     "metadata": {},
     "output_type": "execute_result"
    }
   ],
   "source": [
    "train_data.shape"
   ]
  },
  {
   "cell_type": "code",
   "execution_count": 10,
   "id": "4f689f14",
   "metadata": {
    "execution": {
     "iopub.execute_input": "2022-12-16T04:44:03.911725Z",
     "iopub.status.busy": "2022-12-16T04:44:03.910679Z",
     "iopub.status.idle": "2022-12-16T04:44:03.918716Z",
     "shell.execute_reply": "2022-12-16T04:44:03.917562Z"
    },
    "papermill": {
     "duration": 0.025676,
     "end_time": "2022-12-16T04:44:03.921524",
     "exception": false,
     "start_time": "2022-12-16T04:44:03.895848",
     "status": "completed"
    },
    "tags": []
   },
   "outputs": [],
   "source": [
    "def dicom(column):\n",
    "    print('Column name = ', column)\n",
    "    for value in list(train_data[column].unique()):\n",
    "        yes = ((train_data[column]==value) & (train_data['Offer Accepted']=='Yes')).sum()\n",
    "        no = ((train_data[column]==value) & (train_data['Offer Accepted']=='No')).sum()\n",
    "        print(f'value =\"{value}\", yes = {round(yes*100/(yes+no),2)}%')\n",
    "    y = round((train_data['Offer Accepted']=='Yes').sum()*100/((train_data['Offer Accepted']=='Yes').sum()+(train_data['Offer Accepted']=='No').sum()),2)\n",
    "#     print(f'overall yes = {y}%')"
   ]
  },
  {
   "cell_type": "code",
   "execution_count": 11,
   "id": "c76aaea6",
   "metadata": {
    "execution": {
     "iopub.execute_input": "2022-12-16T04:44:03.950769Z",
     "iopub.status.busy": "2022-12-16T04:44:03.949905Z",
     "iopub.status.idle": "2022-12-16T04:44:04.684121Z",
     "shell.execute_reply": "2022-12-16T04:44:04.682612Z"
    },
    "papermill": {
     "duration": 0.752103,
     "end_time": "2022-12-16T04:44:04.686947",
     "exception": false,
     "start_time": "2022-12-16T04:44:03.934844",
     "status": "completed"
    },
    "tags": []
   },
   "outputs": [
    {
     "name": "stdout",
     "output_type": "stream",
     "text": [
      "Column name =  offer expiration\n",
      "value =\"2days\", yes = 59.58%\n",
      "value =\"10hours\", yes = 52.76%\n",
      "\n",
      "**********************************\n",
      "\n",
      "Column name =  income_range\n",
      "value =\"₹100000 or More\", yes = 57.74%\n",
      "value =\"₹87500 - ₹99999\", yes = 54.43%\n",
      "value =\"₹37500 - ₹49999\", yes = 56.74%\n",
      "value =\"Less than ₹12500\", yes = 57.91%\n",
      "value =\"₹50000 - ₹62499\", yes = 57.7%\n",
      "value =\"₹12500 - ₹24999\", yes = 57.2%\n",
      "value =\"₹75000 - ₹87499\", yes = 51.45%\n",
      "value =\"₹25000 - ₹37499\", yes = 57.31%\n",
      "value =\"₹62500 - ₹74999\", yes = 53.2%\n",
      "\n",
      "**********************************\n",
      "\n",
      "Column name =  no_visited_Cold drinks\n",
      "value =\"4~8\", yes = 59.91%\n",
      "value =\"less1\", yes = 55.54%\n",
      "value =\"never\", yes = 48.16%\n",
      "value =\"1~3\", yes = 62.98%\n",
      "value =\"gt8\", yes = 58.04%\n",
      "value =\"nan\", yes = nan%\n",
      "\n",
      "**********************************\n",
      "\n",
      "Column name =  travelled_more_than_15mins_for_offer\n",
      "value =\"1\", yes = 53.55%\n",
      "value =\"0\", yes = 60.33%\n",
      "\n",
      "**********************************\n",
      "\n",
      "Column name =  Restaur_spend_less_than20\n",
      "value =\"less1\", yes = 53.75%\n",
      "value =\"4~8\", yes = 57.82%\n",
      "value =\"1~3\", yes = 55.68%\n",
      "value =\"gt8\", yes = 60.0%\n",
      "value =\"never\", yes = 55.29%\n",
      "value =\"nan\", yes = nan%\n",
      "\n",
      "**********************************\n",
      "\n",
      "Column name =  Marital Status\n",
      "value =\"Married partner\", yes = 54.0%\n",
      "value =\"Single\", yes = 59.31%\n",
      "value =\"Divorced\", yes = 54.49%\n",
      "value =\"Unmarried partner\", yes = 56.99%\n",
      "value =\"Widowed\", yes = 50.45%\n",
      "\n",
      "**********************************\n",
      "\n",
      "Column name =  restaurant type\n",
      "value =\"4 star restaurant\", yes = 50.48%\n",
      "value =\"Take-away restaurant\", yes = 65.14%\n",
      "value =\"Cold drinks\", yes = 52.52%\n",
      "value =\"Restaurant with pub\", yes = 49.94%\n",
      "value =\"2 star restaurant\", yes = 63.36%\n"
     ]
    },
    {
     "name": "stderr",
     "output_type": "stream",
     "text": [
      "/opt/conda/lib/python3.7/site-packages/ipykernel_launcher.py:6: RuntimeWarning: invalid value encountered in long_scalars\n",
      "  \n"
     ]
    },
    {
     "name": "stdout",
     "output_type": "stream",
     "text": [
      "\n",
      "**********************************\n",
      "\n",
      "Column name =  age\n",
      "value =\"36\", yes = 54.57%\n",
      "value =\"50plus\", yes = 52.68%\n",
      "value =\"26\", yes = 58.4%\n",
      "value =\"46\", yes = 55.59%\n",
      "value =\"21\", yes = 59.92%\n",
      "value =\"below21\", yes = 58.95%\n",
      "value =\"41\", yes = 54.53%\n",
      "value =\"31\", yes = 54.9%\n",
      "\n",
      "**********************************\n",
      "\n",
      "Column name =  Prefer western over chinese\n",
      "value =\"0\", yes = 56.59%\n",
      "value =\"1\", yes = 56.41%\n",
      "\n",
      "**********************************\n",
      "\n",
      "Column name =  travelled_more_than_25mins_for_offer\n",
      "value =\"0\", yes = 58.0%\n",
      "value =\"1\", yes = 45.4%\n",
      "\n",
      "**********************************\n",
      "\n",
      "Column name =  travelled_more_than_5mins_for_offer\n",
      "value =\"1\", yes = 56.5%\n",
      "\n",
      "**********************************\n",
      "\n",
      "Column name =  no_visited_bars\n",
      "value =\"less1\", yes = 56.14%\n",
      "value =\"never\", yes = 53.61%\n",
      "value =\"1~3\", yes = 60.25%\n",
      "value =\"nan\", yes = nan%\n",
      "value =\"4~8\", yes = 61.41%\n",
      "value =\"gt8\", yes = 62.07%\n",
      "\n",
      "**********************************\n",
      "\n",
      "Column name =  gender\n",
      "value =\"Female\", yes = 55.12%\n",
      "value =\"Male\", yes = 57.94%\n",
      "\n",
      "**********************************\n",
      "\n",
      "Column name =  restuarant_same_direction_house\n",
      "value =\"0\", yes = 56.33%\n",
      "value =\"1\", yes = 57.12%\n",
      "\n",
      "**********************************\n",
      "\n",
      "Column name =  Cooks regularly\n",
      "value =\"1\", yes = 56.5%\n",
      "value =\"0\", yes = 56.5%\n",
      "\n",
      "**********************************\n",
      "\n",
      "Column name =  Customer type\n",
      "value =\"Individual\", yes = 53.87%\n",
      "value =\"With Family\", yes = 53.79%\n",
      "value =\"With Kids\", yes = 56.83%\n",
      "value =\"With Colleagues\", yes = 62.63%\n",
      "\n",
      "**********************************\n",
      "\n",
      "Column name =  Qualification\n",
      "value =\"Bachelors degree\", yes = 55.17%\n",
      "value =\"Some college - no degree\", yes = 59.03%\n",
      "value =\"Graduate degree (Masters or Doctorate)\", yes = 53.44%\n",
      "value =\"Associates degree\", yes = 54.55%\n",
      "value =\"High School Graduate\", yes = 58.05%\n",
      "value =\"Some High School\", yes = 72.5%\n",
      "\n",
      "**********************************\n",
      "\n",
      "Column name =  is foodie\n",
      "value =\"0\", yes = 56.17%\n",
      "value =\"1\", yes = 56.82%\n",
      "\n",
      "**********************************\n",
      "\n",
      "Column name =  no_Take-aways\n",
      "value =\"1~3\", yes = 57.55%\n",
      "value =\"gt8\", yes = 55.29%\n",
      "value =\"4~8\", yes = 57.52%\n",
      "value =\"less1\", yes = 51.53%\n",
      "value =\"nan\", yes = nan%\n",
      "value =\"never\", yes = 52.86%\n",
      "\n",
      "**********************************\n",
      "\n",
      "Column name =  Job/Job Industry\n",
      "value =\"Unemployed\", yes = 56.15%\n",
      "value =\"Arts Design Entertainment Sports & Media\", yes = 54.64%\n",
      "value =\"Sales & Related\", yes = 56.56%\n",
      "value =\"Student\", yes = 60.99%\n",
      "value =\"Business & Financial\", yes = 58.02%\n",
      "value =\"Computer & Mathematical\", yes = 54.96%\n",
      "value =\"Office & Administrative Support\", yes = 57.84%\n",
      "value =\"Management\", yes = 58.31%\n",
      "value =\"Healthcare Support\", yes = 66.37%\n",
      "value =\"Life Physical Social Science\", yes = 56.0%\n",
      "value =\"Installation Maintenance & Repair\", yes = 49.29%\n",
      "value =\"Legal\", yes = 51.85%\n",
      "value =\"Community & Social Services\", yes = 51.74%\n",
      "value =\"Education&Training&Library\", yes = 51.8%\n",
      "value =\"Construction & Extraction\", yes = 58.67%\n",
      "value =\"Healthcare Practitioners & Technical\", yes = 63.82%\n",
      "value =\"Transportation & Material Moving\", yes = 56.17%\n",
      "value =\"Retired\", yes = 46.97%\n",
      "value =\"Architecture & Engineering\", yes = 67.97%\n",
      "value =\"Production Occupations\", yes = 63.46%\n",
      "value =\"Farming Fishing & Forestry\", yes = 46.88%\n",
      "value =\"Protective Service\", yes = 58.47%\n",
      "value =\"Personal Care & Service\", yes = 53.33%\n",
      "value =\"Food Preparation & Serving Related\", yes = 54.09%\n",
      "value =\"Building & Grounds Cleaning & Maintenance\", yes = 65.85%\n",
      "\n",
      "**********************************\n",
      "\n",
      "Column name =  restuarant_opposite_direction_house\n",
      "value =\"0\", yes = 58.28%\n",
      "value =\"1\", yes = 56.02%\n",
      "\n",
      "**********************************\n",
      "\n",
      "Column name =  has Children\n",
      "value =\"0\", yes = 58.32%\n",
      "value =\"1\", yes = 53.94%\n",
      "\n",
      "**********************************\n",
      "\n",
      "Column name =  visit restaurant with rating (avg)\n",
      "value =\"4\", yes = 55.84%\n",
      "value =\"3\", yes = 58.36%\n",
      "value =\"0\", yes = 56.41%\n",
      "value =\"1\", yes = 55.36%\n",
      "value =\"2\", yes = 56.64%\n",
      "\n",
      "**********************************\n",
      "\n",
      "Column name =  temperature\n",
      "value =\"67\", yes = 54.52%\n",
      "value =\"89\", yes = 59.06%\n",
      "value =\"40\", yes = 54.0%\n",
      "\n",
      "**********************************\n",
      "\n",
      "Column name =  Restaur_spend_greater_than20\n",
      "value =\"less1\", yes = 54.87%\n",
      "value =\"1~3\", yes = 58.89%\n",
      "value =\"never\", yes = 54.16%\n",
      "value =\"gt8\", yes = 65.17%\n",
      "value =\"nan\", yes = nan%\n",
      "value =\"4~8\", yes = 63.29%\n",
      "\n",
      "**********************************\n",
      "\n",
      "Column name =  Travel Time\n",
      "value =\"22\", yes = 52.9%\n",
      "value =\"18\", yes = 59.47%\n",
      "value =\"7\", yes = 53.17%\n",
      "value =\"10\", yes = 56.98%\n",
      "value =\"14\", yes = 59.93%\n",
      "\n",
      "**********************************\n",
      "\n",
      "Column name =  Climate\n",
      "value =\"Spring\", yes = 52.95%\n",
      "value =\"Summer\", yes = 57.73%\n",
      "value =\"Winter\", yes = 55.45%\n",
      "\n",
      "**********************************\n",
      "\n",
      "Column name =  drop location\n",
      "value =\"Location B\", yes = 52.75%\n",
      "value =\"Location A\", yes = 60.43%\n",
      "value =\"Location C\", yes = 53.79%\n",
      "\n",
      "**********************************\n",
      "\n",
      "Column name =  Prefer home food\n",
      "value =\"0\", yes = 56.05%\n",
      "value =\"1\", yes = 56.93%\n",
      "\n",
      "**********************************\n",
      "\n",
      "Column name =  Offer Accepted\n",
      "value =\"No\", yes = 0.0%\n",
      "value =\"Yes\", yes = 100.0%\n",
      "\n",
      "**********************************\n",
      "\n"
     ]
    }
   ],
   "source": [
    "for column in list(train_data.columns):\n",
    "    dicom(column)\n",
    "    print('\\n**********************************\\n')"
   ]
  },
  {
   "cell_type": "code",
   "execution_count": 12,
   "id": "39ba3b54",
   "metadata": {
    "execution": {
     "iopub.execute_input": "2022-12-16T04:44:04.717163Z",
     "iopub.status.busy": "2022-12-16T04:44:04.716690Z",
     "iopub.status.idle": "2022-12-16T04:44:04.743966Z",
     "shell.execute_reply": "2022-12-16T04:44:04.742655Z"
    },
    "papermill": {
     "duration": 0.045581,
     "end_time": "2022-12-16T04:44:04.746539",
     "exception": false,
     "start_time": "2022-12-16T04:44:04.700958",
     "status": "completed"
    },
    "tags": []
   },
   "outputs": [
    {
     "name": "stdout",
     "output_type": "stream",
     "text": [
      "(11802, 30) <class 'pandas.core.frame.DataFrame'>\n"
     ]
    }
   ],
   "source": [
    "train_data.dropna(inplace=True)\n",
    "print(train_data.shape, type(train_data))\n",
    "\n",
    "#dropping rows having missing values"
   ]
  },
  {
   "cell_type": "code",
   "execution_count": 13,
   "id": "f43bc636",
   "metadata": {
    "execution": {
     "iopub.execute_input": "2022-12-16T04:44:04.777040Z",
     "iopub.status.busy": "2022-12-16T04:44:04.776191Z",
     "iopub.status.idle": "2022-12-16T04:44:06.137536Z",
     "shell.execute_reply": "2022-12-16T04:44:06.136269Z"
    },
    "papermill": {
     "duration": 1.37945,
     "end_time": "2022-12-16T04:44:06.140584",
     "exception": false,
     "start_time": "2022-12-16T04:44:04.761134",
     "status": "completed"
    },
    "tags": []
   },
   "outputs": [],
   "source": [
    "import matplotlib.pyplot as plt\n",
    "from sklearn.model_selection import train_test_split, GridSearchCV\n",
    "from sklearn.preprocessing import LabelEncoder, OneHotEncoder, MinMaxScaler, MaxAbsScaler, StandardScaler, OrdinalEncoder\n",
    "from sklearn.pipeline import Pipeline\n",
    "from sklearn.impute import KNNImputer, SimpleImputer\n",
    "from sklearn.compose import ColumnTransformer\n",
    "from sklearn.tree import DecisionTreeClassifier\n",
    "from sklearn.metrics import f1_score, accuracy_score\n",
    "from sklearn.ensemble import RandomForestClassifier"
   ]
  },
  {
   "cell_type": "code",
   "execution_count": 14,
   "id": "ea12d301",
   "metadata": {
    "execution": {
     "iopub.execute_input": "2022-12-16T04:44:06.170605Z",
     "iopub.status.busy": "2022-12-16T04:44:06.170203Z",
     "iopub.status.idle": "2022-12-16T04:44:06.175085Z",
     "shell.execute_reply": "2022-12-16T04:44:06.173763Z"
    },
    "papermill": {
     "duration": 0.022824,
     "end_time": "2022-12-16T04:44:06.177409",
     "exception": false,
     "start_time": "2022-12-16T04:44:06.154585",
     "status": "completed"
    },
    "tags": []
   },
   "outputs": [],
   "source": [
    "# x, y = train_data[['offer expiration', 'income_range', 'no_visited_Cold drinks',\n",
    "#        'travelled_more_than_15mins_for_offer', 'Restaur_spend_less_than20',\n",
    "#        'Marital Status', 'restaurant type', 'age',\n",
    "#        'Prefer western over chinese', 'travelled_more_than_25mins_for_offer','no_visited_bars', 'gender','restuarant_same_direction_house', 'Cooks regularly',\n",
    "#        'Customer type', 'Qualification', 'is foodie', 'no_Take-aways',\n",
    "#        'Job/Job Industry', 'restuarant_opposite_direction_house',\n",
    "#        'has Children', 'visit restaurant with rating (avg)', 'temperature',\n",
    "#        'Restaur_spend_greater_than20', 'Travel Time', 'Climate',\n",
    "#        'drop location', 'Prefer home food']], train_data['Offer Accepted']"
   ]
  },
  {
   "cell_type": "code",
   "execution_count": 15,
   "id": "26a46fd8",
   "metadata": {
    "execution": {
     "iopub.execute_input": "2022-12-16T04:44:06.207482Z",
     "iopub.status.busy": "2022-12-16T04:44:06.207081Z",
     "iopub.status.idle": "2022-12-16T04:44:06.219097Z",
     "shell.execute_reply": "2022-12-16T04:44:06.217640Z"
    },
    "papermill": {
     "duration": 0.030064,
     "end_time": "2022-12-16T04:44:06.221723",
     "exception": false,
     "start_time": "2022-12-16T04:44:06.191659",
     "status": "completed"
    },
    "tags": []
   },
   "outputs": [],
   "source": [
    "x = train_data[['offer expiration',\n",
    "                   'income_range', \n",
    "                   'no_visited_Cold drinks',\n",
    "                   'travelled_more_than_15mins_for_offer',\n",
    "                   'Restaur_spend_less_than20',\n",
    "                   'Marital Status',\n",
    "                   'restaurant type',\n",
    "                   'age',\n",
    "                   'Prefer western over chinese',\n",
    "                   'travelled_more_than_25mins_for_offer',\n",
    "                   'no_visited_bars',\n",
    "                   'gender',\n",
    "                   'restuarant_same_direction_house',\n",
    "                    'Restaur_spend_greater_than20',\n",
    "                   'Cooks regularly',\n",
    "                   'Customer type',\n",
    "                   'Qualification',\n",
    "                   'is foodie',\n",
    "                   'no_Take-aways',\n",
    "                   'Job/Job Industry',\n",
    "#                    'restuarant_opposite_direction_house',\n",
    "                   'has Children', 'visit restaurant with rating (avg)',\n",
    "                   'temperature',\n",
    "                   'Travel Time',\n",
    "                   'Climate',\n",
    "                   'drop location',\n",
    "                   'Prefer home food']]\n",
    "# dropped columns ['travelled_more_than_5mins_for_offer','Restaur_spend_greater_than20', 'Offer Accepted']\n",
    "\n",
    "y = train_data['Offer Accepted']"
   ]
  },
  {
   "cell_type": "code",
   "execution_count": 16,
   "id": "7491ee88",
   "metadata": {
    "execution": {
     "iopub.execute_input": "2022-12-16T04:44:06.252308Z",
     "iopub.status.busy": "2022-12-16T04:44:06.251596Z",
     "iopub.status.idle": "2022-12-16T04:44:06.267569Z",
     "shell.execute_reply": "2022-12-16T04:44:06.266585Z"
    },
    "papermill": {
     "duration": 0.034434,
     "end_time": "2022-12-16T04:44:06.270496",
     "exception": false,
     "start_time": "2022-12-16T04:44:06.236062",
     "status": "completed"
    },
    "tags": []
   },
   "outputs": [],
   "source": [
    "x_train, x_test, y_train, y_test = train_test_split(x, y, test_size=0.2)"
   ]
  },
  {
   "cell_type": "code",
   "execution_count": 17,
   "id": "a6a8514d",
   "metadata": {
    "execution": {
     "iopub.execute_input": "2022-12-16T04:44:06.301528Z",
     "iopub.status.busy": "2022-12-16T04:44:06.300774Z",
     "iopub.status.idle": "2022-12-16T04:44:06.307613Z",
     "shell.execute_reply": "2022-12-16T04:44:06.306224Z"
    },
    "papermill": {
     "duration": 0.025335,
     "end_time": "2022-12-16T04:44:06.309881",
     "exception": false,
     "start_time": "2022-12-16T04:44:06.284546",
     "status": "completed"
    },
    "tags": []
   },
   "outputs": [
    {
     "name": "stdout",
     "output_type": "stream",
     "text": [
      "(9441, 27)\n",
      "(9441,)\n",
      "(2361, 27)\n",
      "(2361,)\n"
     ]
    }
   ],
   "source": [
    "print(x_train.shape)\n",
    "print(y_train.shape)\n",
    "print(x_test.shape)\n",
    "print(y_test.shape)"
   ]
  },
  {
   "cell_type": "code",
   "execution_count": 18,
   "id": "6e9464c6",
   "metadata": {
    "execution": {
     "iopub.execute_input": "2022-12-16T04:44:06.340260Z",
     "iopub.status.busy": "2022-12-16T04:44:06.339056Z",
     "iopub.status.idle": "2022-12-16T04:44:06.346125Z",
     "shell.execute_reply": "2022-12-16T04:44:06.345143Z"
    },
    "papermill": {
     "duration": 0.024833,
     "end_time": "2022-12-16T04:44:06.348556",
     "exception": false,
     "start_time": "2022-12-16T04:44:06.323723",
     "status": "completed"
    },
    "tags": []
   },
   "outputs": [
    {
     "data": {
      "text/plain": [
       "Index(['offer expiration', 'income_range', 'no_visited_Cold drinks',\n",
       "       'travelled_more_than_15mins_for_offer', 'Restaur_spend_less_than20',\n",
       "       'Marital Status', 'restaurant type', 'age',\n",
       "       'Prefer western over chinese', 'travelled_more_than_25mins_for_offer',\n",
       "       'no_visited_bars', 'gender', 'restuarant_same_direction_house',\n",
       "       'Restaur_spend_greater_than20', 'Cooks regularly', 'Customer type',\n",
       "       'Qualification', 'is foodie', 'no_Take-aways', 'Job/Job Industry',\n",
       "       'has Children', 'visit restaurant with rating (avg)', 'temperature',\n",
       "       'Travel Time', 'Climate', 'drop location', 'Prefer home food'],\n",
       "      dtype='object')"
      ]
     },
     "execution_count": 18,
     "metadata": {},
     "output_type": "execute_result"
    }
   ],
   "source": [
    "x_train.columns"
   ]
  },
  {
   "cell_type": "code",
   "execution_count": 19,
   "id": "0a06f099",
   "metadata": {
    "execution": {
     "iopub.execute_input": "2022-12-16T04:44:06.379531Z",
     "iopub.status.busy": "2022-12-16T04:44:06.378144Z",
     "iopub.status.idle": "2022-12-16T04:44:06.384044Z",
     "shell.execute_reply": "2022-12-16T04:44:06.383135Z"
    },
    "papermill": {
     "duration": 0.023708,
     "end_time": "2022-12-16T04:44:06.386485",
     "exception": false,
     "start_time": "2022-12-16T04:44:06.362777",
     "status": "completed"
    },
    "tags": []
   },
   "outputs": [],
   "source": [
    "dropped_cols = [col for col in org_cols if col not in list(x_train.columns)]"
   ]
  },
  {
   "cell_type": "code",
   "execution_count": 20,
   "id": "ccf53048",
   "metadata": {
    "execution": {
     "iopub.execute_input": "2022-12-16T04:44:06.417040Z",
     "iopub.status.busy": "2022-12-16T04:44:06.416295Z",
     "iopub.status.idle": "2022-12-16T04:44:06.422332Z",
     "shell.execute_reply": "2022-12-16T04:44:06.421408Z"
    },
    "papermill": {
     "duration": 0.023898,
     "end_time": "2022-12-16T04:44:06.424584",
     "exception": false,
     "start_time": "2022-12-16T04:44:06.400686",
     "status": "completed"
    },
    "tags": []
   },
   "outputs": [
    {
     "data": {
      "text/plain": [
       "['travelled_more_than_5mins_for_offer',\n",
       " 'car',\n",
       " 'restuarant_opposite_direction_house',\n",
       " 'Offer Accepted']"
      ]
     },
     "execution_count": 20,
     "metadata": {},
     "output_type": "execute_result"
    }
   ],
   "source": [
    "dropped_cols"
   ]
  },
  {
   "cell_type": "code",
   "execution_count": 21,
   "id": "f7099b83",
   "metadata": {
    "execution": {
     "iopub.execute_input": "2022-12-16T04:44:06.458075Z",
     "iopub.status.busy": "2022-12-16T04:44:06.457319Z",
     "iopub.status.idle": "2022-12-16T04:44:06.467993Z",
     "shell.execute_reply": "2022-12-16T04:44:06.466808Z"
    },
    "papermill": {
     "duration": 0.031258,
     "end_time": "2022-12-16T04:44:06.470620",
     "exception": false,
     "start_time": "2022-12-16T04:44:06.439362",
     "status": "completed"
    },
    "tags": []
   },
   "outputs": [
    {
     "data": {
      "text/plain": [
       "array([1, 0, 1, 1, 1])"
      ]
     },
     "execution_count": 21,
     "metadata": {},
     "output_type": "execute_result"
    }
   ],
   "source": [
    "le = LabelEncoder()\n",
    "y_train = le.fit_transform(y_train)\n",
    "y_test = le.transform(y_test)\n",
    "y_train[0:5]"
   ]
  },
  {
   "cell_type": "code",
   "execution_count": 22,
   "id": "e9e802c2",
   "metadata": {
    "execution": {
     "iopub.execute_input": "2022-12-16T04:44:06.502409Z",
     "iopub.status.busy": "2022-12-16T04:44:06.501653Z",
     "iopub.status.idle": "2022-12-16T04:44:06.506841Z",
     "shell.execute_reply": "2022-12-16T04:44:06.505785Z"
    },
    "papermill": {
     "duration": 0.024071,
     "end_time": "2022-12-16T04:44:06.509385",
     "exception": false,
     "start_time": "2022-12-16T04:44:06.485314",
     "status": "completed"
    },
    "tags": []
   },
   "outputs": [],
   "source": [
    "onehot = ['Marital Status', \n",
    "          'restaurant type',\n",
    "          'gender',\n",
    "          'Customer type',\n",
    "          'Job/Job Industry',\n",
    "          'Climate',\n",
    "          'drop location']"
   ]
  },
  {
   "cell_type": "code",
   "execution_count": 23,
   "id": "603af17e",
   "metadata": {
    "execution": {
     "iopub.execute_input": "2022-12-16T04:44:06.541773Z",
     "iopub.status.busy": "2022-12-16T04:44:06.540998Z",
     "iopub.status.idle": "2022-12-16T04:44:06.550935Z",
     "shell.execute_reply": "2022-12-16T04:44:06.549736Z"
    },
    "papermill": {
     "duration": 0.029188,
     "end_time": "2022-12-16T04:44:06.553424",
     "exception": false,
     "start_time": "2022-12-16T04:44:06.524236",
     "status": "completed"
    },
    "tags": []
   },
   "outputs": [
    {
     "data": {
      "text/plain": [
       "array(['Bachelors degree', 'Some college - no degree',\n",
       "       'Graduate degree (Masters or Doctorate)', 'Associates degree',\n",
       "       'High School Graduate', 'Some High School'], dtype=object)"
      ]
     },
     "execution_count": 23,
     "metadata": {},
     "output_type": "execute_result"
    }
   ],
   "source": [
    "x['Qualification'].unique()"
   ]
  },
  {
   "cell_type": "code",
   "execution_count": 24,
   "id": "789369aa",
   "metadata": {
    "execution": {
     "iopub.execute_input": "2022-12-16T04:44:06.584937Z",
     "iopub.status.busy": "2022-12-16T04:44:06.584502Z",
     "iopub.status.idle": "2022-12-16T04:44:06.592871Z",
     "shell.execute_reply": "2022-12-16T04:44:06.591760Z"
    },
    "papermill": {
     "duration": 0.02742,
     "end_time": "2022-12-16T04:44:06.595519",
     "exception": false,
     "start_time": "2022-12-16T04:44:06.568099",
     "status": "completed"
    },
    "tags": []
   },
   "outputs": [],
   "source": [
    "orden_offer_expiration = OrdinalEncoder(handle_unknown='use_encoded_value', unknown_value=-1,categories=[['2days', '10hours']])\n",
    "orden_income_range = OrdinalEncoder(handle_unknown='use_encoded_value', unknown_value=-1,categories=[['Less than ₹12500', '₹12500 - ₹24999', '₹25000 - ₹37499', '₹37500 - ₹49999', '₹50000 - ₹62499', '₹62500 - ₹74999', '₹75000 - ₹87499', '₹87500 - ₹99999', '₹100000 or More']])\n",
    "orden_counts = OrdinalEncoder(handle_unknown='use_encoded_value', unknown_value=-1,categories=[['never','less1', '1~3', '4~8', 'gt8']])\n",
    "orden_qual = OrdinalEncoder(handle_unknown='use_encoded_value', unknown_value=-1,categories=[['Some High School','High School Graduate','Some college - no degree', 'Associates degree', 'Bachelors degree','Graduate degree (Masters or Doctorate)']])\n",
    "orden_age = OrdinalEncoder(handle_unknown='use_encoded_value', unknown_value=-1,categories=[[ 'below21','21', '26', '31','36', '41', '46','50plus']])"
   ]
  },
  {
   "cell_type": "code",
   "execution_count": 25,
   "id": "c1b9b0e3",
   "metadata": {
    "execution": {
     "iopub.execute_input": "2022-12-16T04:44:06.628601Z",
     "iopub.status.busy": "2022-12-16T04:44:06.627666Z",
     "iopub.status.idle": "2022-12-16T04:44:06.636559Z",
     "shell.execute_reply": "2022-12-16T04:44:06.635526Z"
    },
    "papermill": {
     "duration": 0.028645,
     "end_time": "2022-12-16T04:44:06.639193",
     "exception": false,
     "start_time": "2022-12-16T04:44:06.610548",
     "status": "completed"
    },
    "tags": []
   },
   "outputs": [],
   "source": [
    "ct1 = ColumnTransformer([\n",
    "    ('ord1', orden_offer_expiration, ['offer expiration']),\n",
    "    ('ord2', orden_income_range, ['income_range']),\n",
    "    ('ord3', orden_counts, ['no_visited_Cold drinks']),\n",
    "    ('ord4', orden_counts, ['Restaur_spend_less_than20']),\n",
    "    ('ord5', orden_counts, ['no_visited_bars']),\n",
    "    ('ord6', orden_counts, ['no_Take-aways']),\n",
    "    ('ord7', orden_counts, ['Restaur_spend_greater_than20']),\n",
    "    ('ord8', orden_qual, ['Qualification']),\n",
    "    ('ord9', orden_age, ['age']),\n",
    "    ('onehot', OneHotEncoder(handle_unknown='ignore', drop=\"first\"), onehot),\n",
    "    ('stdsc1', StandardScaler(), ['temperature']),\n",
    "    ('stdsc2', StandardScaler(), ['Travel Time']),\n",
    "    ('stdsc3', StandardScaler(), ['visit restaurant with rating (avg)'])\n",
    "],\n",
    "remainder='passthrough')"
   ]
  },
  {
   "cell_type": "code",
   "execution_count": 26,
   "id": "71311a71",
   "metadata": {
    "execution": {
     "iopub.execute_input": "2022-12-16T04:44:06.672858Z",
     "iopub.status.busy": "2022-12-16T04:44:06.671677Z",
     "iopub.status.idle": "2022-12-16T04:44:06.767901Z",
     "shell.execute_reply": "2022-12-16T04:44:06.766493Z"
    },
    "papermill": {
     "duration": 0.114966,
     "end_time": "2022-12-16T04:44:06.770778",
     "exception": false,
     "start_time": "2022-12-16T04:44:06.655812",
     "status": "completed"
    },
    "tags": []
   },
   "outputs": [],
   "source": [
    "x_train = ct1.fit_transform(x_train)"
   ]
  },
  {
   "cell_type": "code",
   "execution_count": 27,
   "id": "7695c16a",
   "metadata": {
    "execution": {
     "iopub.execute_input": "2022-12-16T04:44:06.802383Z",
     "iopub.status.busy": "2022-12-16T04:44:06.801908Z",
     "iopub.status.idle": "2022-12-16T04:44:06.809160Z",
     "shell.execute_reply": "2022-12-16T04:44:06.807882Z"
    },
    "papermill": {
     "duration": 0.026317,
     "end_time": "2022-12-16T04:44:06.811857",
     "exception": false,
     "start_time": "2022-12-16T04:44:06.785540",
     "status": "completed"
    },
    "tags": []
   },
   "outputs": [
    {
     "data": {
      "text/plain": [
       "(9441, 60)"
      ]
     },
     "execution_count": 27,
     "metadata": {},
     "output_type": "execute_result"
    }
   ],
   "source": [
    "x_train.shape"
   ]
  },
  {
   "cell_type": "code",
   "execution_count": 28,
   "id": "428795ff",
   "metadata": {
    "execution": {
     "iopub.execute_input": "2022-12-16T04:44:06.844091Z",
     "iopub.status.busy": "2022-12-16T04:44:06.843197Z",
     "iopub.status.idle": "2022-12-16T04:44:06.883245Z",
     "shell.execute_reply": "2022-12-16T04:44:06.882226Z"
    },
    "papermill": {
     "duration": 0.059747,
     "end_time": "2022-12-16T04:44:06.886260",
     "exception": false,
     "start_time": "2022-12-16T04:44:06.826513",
     "status": "completed"
    },
    "tags": []
   },
   "outputs": [],
   "source": [
    "x_test = ct1.transform(x_test)"
   ]
  },
  {
   "cell_type": "code",
   "execution_count": 29,
   "id": "ece103d6",
   "metadata": {
    "execution": {
     "iopub.execute_input": "2022-12-16T04:44:06.917759Z",
     "iopub.status.busy": "2022-12-16T04:44:06.917333Z",
     "iopub.status.idle": "2022-12-16T04:44:06.972885Z",
     "shell.execute_reply": "2022-12-16T04:44:06.971367Z"
    },
    "papermill": {
     "duration": 0.075384,
     "end_time": "2022-12-16T04:44:06.976531",
     "exception": false,
     "start_time": "2022-12-16T04:44:06.901147",
     "status": "completed"
    },
    "tags": []
   },
   "outputs": [
    {
     "name": "stdout",
     "output_type": "stream",
     "text": [
      "0.7152446421350587\n",
      "0.6948989412897016\n",
      "0.6270522190445927\n",
      "0.5972045743329097\n"
     ]
    }
   ],
   "source": [
    "clf2 = DecisionTreeClassifier(criterion='gini', max_depth=5)\n",
    "clf2.fit(x_train, y_train)\n",
    "y_pred_train, y_pred_test = clf2.predict(x_train), clf2.predict(x_test)\n",
    "print(f1_score(y_train, y_pred_train))\n",
    "print(f1_score(y_test, y_pred_test))\n",
    "print(accuracy_score(y_train, y_pred_train))\n",
    "print(accuracy_score(y_test, y_pred_test))"
   ]
  },
  {
   "cell_type": "code",
   "execution_count": 30,
   "id": "4c734d5e",
   "metadata": {
    "execution": {
     "iopub.execute_input": "2022-12-16T04:44:07.008565Z",
     "iopub.status.busy": "2022-12-16T04:44:07.008159Z",
     "iopub.status.idle": "2022-12-16T04:44:07.740261Z",
     "shell.execute_reply": "2022-12-16T04:44:07.738554Z"
    },
    "papermill": {
     "duration": 0.751644,
     "end_time": "2022-12-16T04:44:07.743595",
     "exception": false,
     "start_time": "2022-12-16T04:44:06.991951",
     "status": "completed"
    },
    "tags": []
   },
   "outputs": [
    {
     "name": "stdout",
     "output_type": "stream",
     "text": [
      "0.7185259296314824\n",
      "0.6805831676607024\n",
      "0.6424107615718674\n",
      "0.5916984328674291\n",
      "best params: {'max_depth': 6}\n"
     ]
    }
   ],
   "source": [
    "params = {\"max_depth\":[2,3,4,5,6]}\n",
    "gv = GridSearchCV(clf2, param_grid = params)\n",
    "gv.fit(x_train, y_train)\n",
    "y_pred_train, y_pred_test = gv.best_estimator_.predict(x_train), gv.best_estimator_.predict(x_test)\n",
    "print(f1_score(y_train, y_pred_train))\n",
    "print(f1_score(y_test, y_pred_test))\n",
    "print(accuracy_score(y_train, y_pred_train))\n",
    "print(accuracy_score(y_test, y_pred_test))\n",
    "print(f'best params: {gv.best_params_}')"
   ]
  },
  {
   "cell_type": "code",
   "execution_count": 31,
   "id": "449cc348",
   "metadata": {
    "execution": {
     "iopub.execute_input": "2022-12-16T04:44:07.775683Z",
     "iopub.status.busy": "2022-12-16T04:44:07.775260Z",
     "iopub.status.idle": "2022-12-16T04:44:28.187850Z",
     "shell.execute_reply": "2022-12-16T04:44:28.186149Z"
    },
    "papermill": {
     "duration": 20.431936,
     "end_time": "2022-12-16T04:44:28.190814",
     "exception": false,
     "start_time": "2022-12-16T04:44:07.758878",
     "status": "completed"
    },
    "tags": []
   },
   "outputs": [
    {
     "name": "stdout",
     "output_type": "stream",
     "text": [
      "0.7405309161540952\n",
      "0.704361873990307\n",
      "0.6604173286728101\n",
      "0.6124523506988564\n"
     ]
    }
   ],
   "source": [
    "from sklearn.svm import SVC\n",
    "clf3 = SVC(kernel='rbf')\n",
    "clf3.fit(x_train, y_train)\n",
    "y_pred_train, y_pred_test = clf3.predict(x_train), clf3.predict(x_test)\n",
    "print(f1_score(y_train, y_pred_train))\n",
    "print(f1_score(y_test, y_pred_test))\n",
    "print(accuracy_score(y_train, y_pred_train))\n",
    "print(accuracy_score(y_test, y_pred_test))"
   ]
  },
  {
   "cell_type": "code",
   "execution_count": 32,
   "id": "30739a37",
   "metadata": {
    "execution": {
     "iopub.execute_input": "2022-12-16T04:44:28.229681Z",
     "iopub.status.busy": "2022-12-16T04:44:28.229238Z",
     "iopub.status.idle": "2022-12-16T04:44:29.937664Z",
     "shell.execute_reply": "2022-12-16T04:44:29.936053Z"
    },
    "papermill": {
     "duration": 1.730909,
     "end_time": "2022-12-16T04:44:29.940609",
     "exception": false,
     "start_time": "2022-12-16T04:44:28.209700",
     "status": "completed"
    },
    "tags": []
   },
   "outputs": [
    {
     "name": "stdout",
     "output_type": "stream",
     "text": [
      "0.8455804046858361\n",
      "0.6741180579811387\n",
      "0.8156974896727042\n",
      "0.6048284625158831\n"
     ]
    }
   ],
   "source": [
    "from xgboost import XGBClassifier, plot_importance\n",
    "xgbc = XGBClassifier(booster= 'gbtree', eta= 0.25, gamma= 0.05, max_depth= 5)\n",
    "xgbc.fit(x_train, y_train)\n",
    "y_pred_train, y_pred_test = xgbc.predict(x_train), xgbc.predict(x_test)\n",
    "print(f1_score(y_train, y_pred_train))\n",
    "print(f1_score(y_test, y_pred_test))\n",
    "print(accuracy_score(y_train, y_pred_train))\n",
    "print(accuracy_score(y_test, y_pred_test))"
   ]
  },
  {
   "cell_type": "code",
   "execution_count": 33,
   "id": "f843d4ff",
   "metadata": {
    "execution": {
     "iopub.execute_input": "2022-12-16T04:44:29.974133Z",
     "iopub.status.busy": "2022-12-16T04:44:29.973677Z",
     "iopub.status.idle": "2022-12-16T04:44:30.945221Z",
     "shell.execute_reply": "2022-12-16T04:44:30.943696Z"
    },
    "papermill": {
     "duration": 0.990915,
     "end_time": "2022-12-16T04:44:30.947703",
     "exception": false,
     "start_time": "2022-12-16T04:44:29.956788",
     "status": "completed"
    },
    "tags": []
   },
   "outputs": [
    {
     "data": {
      "text/plain": [
       "<Figure size 864x864 with 0 Axes>"
      ]
     },
     "metadata": {},
     "output_type": "display_data"
    },
    {
     "data": {
      "image/png": "[encoded data removed]",
      "text/plain": [
       "<Figure size 432x288 with 1 Axes>"
      ]
     },
     "metadata": {
      "needs_background": "light"
     },
     "output_type": "display_data"
    }
   ],
   "source": [
    "# check feature importance from excel labelled data\n",
    "# try to combine labels\n",
    "# hyperturning\n",
    "import matplotlib.pyplot as plt\n",
    "plt.figure(figsize=(12,12))\n",
    "plot_importance(xgbc)\n",
    "plt.show()"
   ]
  },
  {
   "cell_type": "code",
   "execution_count": 34,
   "id": "b0d3cd44",
   "metadata": {
    "execution": {
     "iopub.execute_input": "2022-12-16T04:44:30.980860Z",
     "iopub.status.busy": "2022-12-16T04:44:30.980412Z",
     "iopub.status.idle": "2022-12-16T04:44:30.986519Z",
     "shell.execute_reply": "2022-12-16T04:44:30.985207Z"
    },
    "papermill": {
     "duration": 0.025736,
     "end_time": "2022-12-16T04:44:30.989195",
     "exception": false,
     "start_time": "2022-12-16T04:44:30.963459",
     "status": "completed"
    },
    "tags": []
   },
   "outputs": [],
   "source": [
    "# params = {\"max_depth\":[2,3,4,5,6], 'loss':['log_loss', 'deviance', 'exponential'], 'learning_rate':[0.01,0.1,1], 'subsample':[0.4,0.5,0.7,0.8,0.9,1]}\n",
    "# params = {\"booster\":[\"gbtree\", \"gblinear\"], 'eta':[0.25,0.35,0.35], 'gamma':[0, 0.05, 0.10], 'max_depth':[5,6,7]}\n",
    "# gv = GridSearchCV(xgbc, param_grid = params)\n",
    "# gv.fit(x_train, y_train)\n",
    "# y_pred_train, y_pred_test = gv.best_estimator_.predict(x_train), gv.best_estimator_.predict(x_test)\n",
    "# print(f1_score(y_train, y_pred_train))\n",
    "# print(f1_score(y_test, y_pred_test))\n",
    "# print(accuracy_score(y_train, y_pred_train))\n",
    "# print(accuracy_score(y_test, y_pred_test))"
   ]
  },
  {
   "cell_type": "code",
   "execution_count": 35,
   "id": "93ca9bd8",
   "metadata": {
    "execution": {
     "iopub.execute_input": "2022-12-16T04:44:31.024043Z",
     "iopub.status.busy": "2022-12-16T04:44:31.023593Z",
     "iopub.status.idle": "2022-12-16T04:44:31.031441Z",
     "shell.execute_reply": "2022-12-16T04:44:31.030104Z"
    },
    "papermill": {
     "duration": 0.028083,
     "end_time": "2022-12-16T04:44:31.033785",
     "exception": false,
     "start_time": "2022-12-16T04:44:31.005702",
     "status": "completed"
    },
    "tags": []
   },
   "outputs": [
    {
     "data": {
      "text/plain": [
       "{'max_depth': 6}"
      ]
     },
     "execution_count": 35,
     "metadata": {},
     "output_type": "execute_result"
    }
   ],
   "source": [
    "gv.best_params_"
   ]
  },
  {
   "cell_type": "code",
   "execution_count": 36,
   "id": "4421e5e3",
   "metadata": {
    "execution": {
     "iopub.execute_input": "2022-12-16T04:44:31.066846Z",
     "iopub.status.busy": "2022-12-16T04:44:31.066449Z",
     "iopub.status.idle": "2022-12-16T04:44:34.116904Z",
     "shell.execute_reply": "2022-12-16T04:44:34.115597Z"
    },
    "papermill": {
     "duration": 3.071286,
     "end_time": "2022-12-16T04:44:34.120701",
     "exception": false,
     "start_time": "2022-12-16T04:44:31.049415",
     "status": "completed"
    },
    "tags": []
   },
   "outputs": [
    {
     "name": "stdout",
     "output_type": "stream",
     "text": [
      "0.7245110691948774\n",
      "0.6015810276679842\n",
      "0.7060692723228471\n",
      "0.5730622617534943\n"
     ]
    }
   ],
   "source": [
    "from sklearn.neighbors import KNeighborsClassifier\n",
    "neigh = KNeighborsClassifier(n_neighbors=6)\n",
    "neigh.fit(x_train, y_train)\n",
    "y_pred_train, y_pred_test = neigh.predict(x_train), neigh.predict(x_test)\n",
    "print(f1_score(y_train, y_pred_train))\n",
    "print(f1_score(y_test, y_pred_test))\n",
    "print(accuracy_score(y_train, y_pred_train))\n",
    "print(accuracy_score(y_test, y_pred_test))"
   ]
  },
  {
   "cell_type": "code",
   "execution_count": 37,
   "id": "ab688c60",
   "metadata": {
    "execution": {
     "iopub.execute_input": "2022-12-16T04:44:34.157349Z",
     "iopub.status.busy": "2022-12-16T04:44:34.156851Z",
     "iopub.status.idle": "2022-12-16T04:44:56.412700Z",
     "shell.execute_reply": "2022-12-16T04:44:56.410604Z"
    },
    "papermill": {
     "duration": 22.278541,
     "end_time": "2022-12-16T04:44:56.416960",
     "exception": false,
     "start_time": "2022-12-16T04:44:34.138419",
     "status": "completed"
    },
    "tags": []
   },
   "outputs": [
    {
     "name": "stdout",
     "output_type": "stream",
     "text": [
      "0.857856220404649\n",
      "0.6668965517241379\n",
      "0.8251244571549624\n",
      "0.590851334180432\n"
     ]
    },
    {
     "name": "stderr",
     "output_type": "stream",
     "text": [
      "/opt/conda/lib/python3.7/site-packages/sklearn/neural_network/_multilayer_perceptron.py:696: ConvergenceWarning: Stochastic Optimizer: Maximum iterations (200) reached and the optimization hasn't converged yet.\n",
      "  ConvergenceWarning,\n"
     ]
    }
   ],
   "source": [
    "from sklearn.neural_network import MLPClassifier\n",
    "clf = MLPClassifier(alpha=0.005)\n",
    "clf.fit(x_train, y_train)\n",
    "y_pred_train, y_pred_test = clf.predict(x_train), clf.predict(x_test)\n",
    "print(f1_score(y_train, y_pred_train))\n",
    "print(f1_score(y_test, y_pred_test))\n",
    "print(accuracy_score(y_train, y_pred_train))\n",
    "print(accuracy_score(y_test, y_pred_test))"
   ]
  },
  {
   "cell_type": "code",
   "execution_count": 38,
   "id": "9d52ef66",
   "metadata": {
    "execution": {
     "iopub.execute_input": "2022-12-16T04:44:56.504207Z",
     "iopub.status.busy": "2022-12-16T04:44:56.503362Z",
     "iopub.status.idle": "2022-12-16T04:44:57.769952Z",
     "shell.execute_reply": "2022-12-16T04:44:57.768641Z"
    },
    "papermill": {
     "duration": 1.31375,
     "end_time": "2022-12-16T04:44:57.772289",
     "exception": false,
     "start_time": "2022-12-16T04:44:56.458539",
     "status": "completed"
    },
    "tags": []
   },
   "outputs": [
    {
     "name": "stdout",
     "output_type": "stream",
     "text": [
      "0.8736456076012667\n",
      "0.7181903864278981\n",
      "0.8394237898527699\n",
      "0.6200762388818297\n"
     ]
    }
   ],
   "source": [
    "from sklearn.ensemble import RandomForestClassifier\n",
    "clf4 = RandomForestClassifier(max_depth=11)\n",
    "clf4.fit(x_train, y_train)\n",
    "y_pred_train, y_pred_test = clf4.predict(x_train), clf4.predict(x_test)\n",
    "print(f1_score(y_train, y_pred_train))\n",
    "print(f1_score(y_test, y_pred_test))\n",
    "print(accuracy_score(y_train, y_pred_train))\n",
    "print(accuracy_score(y_test, y_pred_test))"
   ]
  },
  {
   "cell_type": "code",
   "execution_count": 39,
   "id": "a4ce939f",
   "metadata": {
    "execution": {
     "iopub.execute_input": "2022-12-16T04:44:57.807348Z",
     "iopub.status.busy": "2022-12-16T04:44:57.806902Z",
     "iopub.status.idle": "2022-12-16T04:44:58.489746Z",
     "shell.execute_reply": "2022-12-16T04:44:58.488114Z"
    },
    "papermill": {
     "duration": 0.704453,
     "end_time": "2022-12-16T04:44:58.493047",
     "exception": false,
     "start_time": "2022-12-16T04:44:57.788594",
     "status": "completed"
    },
    "tags": []
   },
   "outputs": [
    {
     "name": "stdout",
     "output_type": "stream",
     "text": [
      "0.6982438365417089\n",
      "0.6844775109908692\n",
      "0.6214384069484165\n",
      "0.6048284625158831\n"
     ]
    }
   ],
   "source": [
    "from sklearn.ensemble import AdaBoostClassifier\n",
    "clf4 = AdaBoostClassifier(n_estimators=40)\n",
    "clf4.fit(x_train, y_train)\n",
    "y_pred_train, y_pred_test = clf4.predict(x_train), clf4.predict(x_test)\n",
    "print(f1_score(y_train, y_pred_train))\n",
    "print(f1_score(y_test, y_pred_test))\n",
    "print(accuracy_score(y_train, y_pred_train))\n",
    "print(accuracy_score(y_test, y_pred_test))"
   ]
  },
  {
   "cell_type": "code",
   "execution_count": 40,
   "id": "037a95c1",
   "metadata": {
    "execution": {
     "iopub.execute_input": "2022-12-16T04:44:58.527988Z",
     "iopub.status.busy": "2022-12-16T04:44:58.527566Z",
     "iopub.status.idle": "2022-12-16T04:45:00.015240Z",
     "shell.execute_reply": "2022-12-16T04:45:00.013617Z"
    },
    "papermill": {
     "duration": 1.508612,
     "end_time": "2022-12-16T04:45:00.018162",
     "exception": false,
     "start_time": "2022-12-16T04:44:58.509550",
     "status": "completed"
    },
    "tags": []
   },
   "outputs": [
    {
     "name": "stdout",
     "output_type": "stream",
     "text": [
      "0.7395503746877602\n",
      "0.7022340780260087\n",
      "0.6686791653426544\n",
      "0.6217704362558238\n"
     ]
    }
   ],
   "source": [
    "from sklearn.ensemble import GradientBoostingClassifier\n",
    "gbclf = GradientBoostingClassifier(max_depth=3, subsample=0.7)\n",
    "gbclf.fit(x_train, y_train)\n",
    "y_pred_train, y_pred_test = gbclf.predict(x_train), gbclf.predict(x_test)\n",
    "print(f1_score(y_train, y_pred_train))\n",
    "print(f1_score(y_test, y_pred_test))\n",
    "print(accuracy_score(y_train, y_pred_train))\n",
    "print(accuracy_score(y_test, y_pred_test))"
   ]
  },
  {
   "cell_type": "code",
   "execution_count": 41,
   "id": "504d8769",
   "metadata": {
    "execution": {
     "iopub.execute_input": "2022-12-16T04:45:00.053097Z",
     "iopub.status.busy": "2022-12-16T04:45:00.052637Z",
     "iopub.status.idle": "2022-12-16T04:45:00.067682Z",
     "shell.execute_reply": "2022-12-16T04:45:00.065881Z"
    },
    "papermill": {
     "duration": 0.035686,
     "end_time": "2022-12-16T04:45:00.070134",
     "exception": false,
     "start_time": "2022-12-16T04:45:00.034448",
     "status": "completed"
    },
    "tags": []
   },
   "outputs": [
    {
     "name": "stdout",
     "output_type": "stream",
     "text": [
      "              precision    recall  f1-score   support\n",
      "\n",
      "           0       0.60      0.40      0.48      1027\n",
      "           1       0.63      0.79      0.70      1334\n",
      "\n",
      "    accuracy                           0.62      2361\n",
      "   macro avg       0.61      0.60      0.59      2361\n",
      "weighted avg       0.62      0.62      0.61      2361\n",
      "\n"
     ]
    }
   ],
   "source": [
    "from sklearn.metrics import classification_report\n",
    "print(classification_report(y_test, y_pred_test))"
   ]
  },
  {
   "cell_type": "code",
   "execution_count": 42,
   "id": "3ac3b197",
   "metadata": {
    "execution": {
     "iopub.execute_input": "2022-12-16T04:45:00.104284Z",
     "iopub.status.busy": "2022-12-16T04:45:00.103699Z",
     "iopub.status.idle": "2022-12-16T04:45:00.108968Z",
     "shell.execute_reply": "2022-12-16T04:45:00.107964Z"
    },
    "papermill": {
     "duration": 0.024759,
     "end_time": "2022-12-16T04:45:00.111113",
     "exception": false,
     "start_time": "2022-12-16T04:45:00.086354",
     "status": "completed"
    },
    "tags": []
   },
   "outputs": [],
   "source": [
    "# # params = {\"max_depth\":[2,3,4,5,6], 'loss':['log_loss', 'deviance', 'exponential'], 'learning_rate':[0.01,0.1,1], 'subsample':[0.4,0.5,0.7,0.8,0.9,1]}\n",
    "# params = {\"max_depth\":[2,3,4,5,6], 'subsample':[0.5,0.5,0.7,0.8,0.9,1]}\n",
    "# gv = GridSearchCV(gbclf, param_grid = params)\n",
    "# gv.fit(x_train, y_train)\n",
    "# y_pred_train, y_pred_test = gv.best_estimator_.predict(x_train), gv.best_estimator_.predict(x_test)\n",
    "# print(f1_score(y_train, y_pred_train))\n",
    "# print(f1_score(y_test, y_pred_test))\n",
    "# print(accuracy_score(y_train, y_pred_train))\n",
    "# print(accuracy_score(y_test, y_pred_test))"
   ]
  },
  {
   "cell_type": "code",
   "execution_count": 43,
   "id": "42e43ead",
   "metadata": {
    "execution": {
     "iopub.execute_input": "2022-12-16T04:45:00.146237Z",
     "iopub.status.busy": "2022-12-16T04:45:00.145804Z",
     "iopub.status.idle": "2022-12-16T04:45:00.151339Z",
     "shell.execute_reply": "2022-12-16T04:45:00.150570Z"
    },
    "papermill": {
     "duration": 0.026238,
     "end_time": "2022-12-16T04:45:00.153604",
     "exception": false,
     "start_time": "2022-12-16T04:45:00.127366",
     "status": "completed"
    },
    "tags": []
   },
   "outputs": [
    {
     "data": {
      "text/plain": [
       "{'max_depth': 6}"
      ]
     },
     "execution_count": 43,
     "metadata": {},
     "output_type": "execute_result"
    }
   ],
   "source": [
    "gv.best_params_"
   ]
  },
  {
   "cell_type": "code",
   "execution_count": 44,
   "id": "7591be50",
   "metadata": {
    "execution": {
     "iopub.execute_input": "2022-12-16T04:45:00.194498Z",
     "iopub.status.busy": "2022-12-16T04:45:00.193309Z",
     "iopub.status.idle": "2022-12-16T04:45:00.200409Z",
     "shell.execute_reply": "2022-12-16T04:45:00.199005Z"
    },
    "papermill": {
     "duration": 0.033673,
     "end_time": "2022-12-16T04:45:00.203539",
     "exception": false,
     "start_time": "2022-12-16T04:45:00.169866",
     "status": "completed"
    },
    "tags": []
   },
   "outputs": [],
   "source": [
    "#for comparision only\n",
    "\n",
    "# from sklearn.linear_model import LogisticRegression\n",
    "# from sklearn.metrics import accuracy_score, log_loss\n",
    "# from sklearn.neighbors import KNeighborsClassifier\n",
    "# from sklearn.svm import SVC, LinearSVC, NuSVC\n",
    "# from sklearn.tree import DecisionTreeClassifier\n",
    "# from sklearn.ensemble import RandomForestClassifier, AdaBoostClassifier, GradientBoostingClassifier\n",
    "# from sklearn.naive_bayes import GaussianNB\n",
    "# from sklearn.discriminant_analysis import LinearDiscriminantAnalysis\n",
    "# from sklearn.discriminant_analysis import QuadraticDiscriminantAnalysis\n",
    "\n",
    "# classifiers = [\n",
    "#     LogisticRegression(),\n",
    "#     KNeighborsClassifier(10),\n",
    "#     SVC(kernel=\"rbf\", C=0.025, probability=True),\n",
    "#     NuSVC(probability=True),\n",
    "#     DecisionTreeClassifier(),\n",
    "#     RandomForestClassifier(),\n",
    "#     AdaBoostClassifier(),\n",
    "#     GradientBoostingClassifier(),\n",
    "#     GaussianNB(),\n",
    "#     LinearDiscriminantAnalysis(),\n",
    "#     QuadraticDiscriminantAnalysis()]\n",
    "\n",
    "# # Logging for Visual Comparison\n",
    "# log_cols=[\"Classifier\", \"Accuracy\", \"Log Loss\"]\n",
    "# log = pd.DataFrame(columns=log_cols)\n",
    "\n",
    "# for clf in classifiers:\n",
    "#     clf.fit(x_train, y_train)\n",
    "#     name = clf.__class__.__name__\n",
    "    \n",
    "#     print(\"=\"*30)\n",
    "#     print(name)\n",
    "    \n",
    "#     print('****Results****')\n",
    "#     train_predictions = clf.predict(x_test)\n",
    "#     acc = accuracy_score(y_test, train_predictions)\n",
    "#     print(\"Accuracy: {:.4%}\".format(acc))\n",
    "    \n",
    "#     train_predictions = clf.predict_proba(x_test)\n",
    "#     ll = log_loss(y_test, train_predictions)\n",
    "#     print(\"Log Loss: {}\".format(ll))\n",
    "    \n",
    "#     log_entry = pd.DataFrame([[name, acc*100, ll]], columns=log_cols)\n",
    "#     log = log.append(log_entry)\n",
    "    \n",
    "# print(\"=\"*30)"
   ]
  },
  {
   "cell_type": "code",
   "execution_count": 45,
   "id": "1e0ad591",
   "metadata": {
    "execution": {
     "iopub.execute_input": "2022-12-16T04:45:00.247506Z",
     "iopub.status.busy": "2022-12-16T04:45:00.247005Z",
     "iopub.status.idle": "2022-12-16T04:45:00.320980Z",
     "shell.execute_reply": "2022-12-16T04:45:00.319853Z"
    },
    "papermill": {
     "duration": 0.10105,
     "end_time": "2022-12-16T04:45:00.323937",
     "exception": false,
     "start_time": "2022-12-16T04:45:00.222887",
     "status": "completed"
    },
    "tags": []
   },
   "outputs": [],
   "source": [
    "test_data = ct1.transform(test_data)"
   ]
  },
  {
   "cell_type": "code",
   "execution_count": 46,
   "id": "db5ad8e5",
   "metadata": {
    "execution": {
     "iopub.execute_input": "2022-12-16T04:45:00.358512Z",
     "iopub.status.busy": "2022-12-16T04:45:00.357726Z",
     "iopub.status.idle": "2022-12-16T04:45:00.374168Z",
     "shell.execute_reply": "2022-12-16T04:45:00.372818Z"
    },
    "papermill": {
     "duration": 0.036921,
     "end_time": "2022-12-16T04:45:00.376989",
     "exception": false,
     "start_time": "2022-12-16T04:45:00.340068",
     "status": "completed"
    },
    "tags": []
   },
   "outputs": [
    {
     "name": "stdout",
     "output_type": "stream",
     "text": [
      "i ran\n"
     ]
    }
   ],
   "source": [
    "pred = xgbc.predict(test_data)\n",
    "print(\"i ran\")"
   ]
  },
  {
   "cell_type": "code",
   "execution_count": 47,
   "id": "9e85377d",
   "metadata": {
    "execution": {
     "iopub.execute_input": "2022-12-16T04:45:00.413648Z",
     "iopub.status.busy": "2022-12-16T04:45:00.413214Z",
     "iopub.status.idle": "2022-12-16T04:45:00.418530Z",
     "shell.execute_reply": "2022-12-16T04:45:00.417597Z"
    },
    "papermill": {
     "duration": 0.024875,
     "end_time": "2022-12-16T04:45:00.420664",
     "exception": false,
     "start_time": "2022-12-16T04:45:00.395789",
     "status": "completed"
    },
    "tags": []
   },
   "outputs": [],
   "source": [
    "pred = le.inverse_transform(pred)"
   ]
  },
  {
   "cell_type": "code",
   "execution_count": 48,
   "id": "5c368f91",
   "metadata": {
    "execution": {
     "iopub.execute_input": "2022-12-16T04:45:00.454995Z",
     "iopub.status.busy": "2022-12-16T04:45:00.454267Z",
     "iopub.status.idle": "2022-12-16T04:45:00.462500Z",
     "shell.execute_reply": "2022-12-16T04:45:00.461377Z"
    },
    "papermill": {
     "duration": 0.028238,
     "end_time": "2022-12-16T04:45:00.465030",
     "exception": false,
     "start_time": "2022-12-16T04:45:00.436792",
     "status": "completed"
    },
    "tags": []
   },
   "outputs": [
    {
     "data": {
      "text/plain": [
       "0     No\n",
       "1    Yes\n",
       "2    Yes\n",
       "3     No\n",
       "4     No\n",
       "Name: Offer Accepted, dtype: object"
      ]
     },
     "execution_count": 48,
     "metadata": {},
     "output_type": "execute_result"
    }
   ],
   "source": [
    "train_data['Offer Accepted'].head()"
   ]
  },
  {
   "cell_type": "code",
   "execution_count": 49,
   "id": "840d406e",
   "metadata": {
    "execution": {
     "iopub.execute_input": "2022-12-16T04:45:00.500095Z",
     "iopub.status.busy": "2022-12-16T04:45:00.499640Z",
     "iopub.status.idle": "2022-12-16T04:45:00.507936Z",
     "shell.execute_reply": "2022-12-16T04:45:00.506828Z"
    },
    "papermill": {
     "duration": 0.028758,
     "end_time": "2022-12-16T04:45:00.510231",
     "exception": false,
     "start_time": "2022-12-16T04:45:00.481473",
     "status": "completed"
    },
    "tags": []
   },
   "outputs": [
    {
     "data": {
      "text/plain": [
       "array(['Yes', 'No', 'Yes', 'Yes', 'Yes'], dtype=object)"
      ]
     },
     "execution_count": 49,
     "metadata": {},
     "output_type": "execute_result"
    }
   ],
   "source": [
    "le.inverse_transform(y_train)[:5]"
   ]
  },
  {
   "cell_type": "code",
   "execution_count": 50,
   "id": "2abacc92",
   "metadata": {
    "execution": {
     "iopub.execute_input": "2022-12-16T04:45:00.544922Z",
     "iopub.status.busy": "2022-12-16T04:45:00.544479Z",
     "iopub.status.idle": "2022-12-16T04:45:00.550808Z",
     "shell.execute_reply": "2022-12-16T04:45:00.549996Z"
    },
    "papermill": {
     "duration": 0.026327,
     "end_time": "2022-12-16T04:45:00.552875",
     "exception": false,
     "start_time": "2022-12-16T04:45:00.526548",
     "status": "completed"
    },
    "tags": []
   },
   "outputs": [
    {
     "data": {
      "text/plain": [
       "array(['No', 'Yes', 'Yes', ..., 'Yes', 'Yes', 'Yes'], dtype=object)"
      ]
     },
     "execution_count": 50,
     "metadata": {},
     "output_type": "execute_result"
    }
   ],
   "source": [
    "pred"
   ]
  },
  {
   "cell_type": "code",
   "execution_count": 51,
   "id": "85464a18",
   "metadata": {
    "execution": {
     "iopub.execute_input": "2022-12-16T04:45:00.588470Z",
     "iopub.status.busy": "2022-12-16T04:45:00.588039Z",
     "iopub.status.idle": "2022-12-16T04:45:00.595528Z",
     "shell.execute_reply": "2022-12-16T04:45:00.594295Z"
    },
    "papermill": {
     "duration": 0.028207,
     "end_time": "2022-12-16T04:45:00.597694",
     "exception": false,
     "start_time": "2022-12-16T04:45:00.569487",
     "status": "completed"
    },
    "tags": []
   },
   "outputs": [],
   "source": [
    "sub = pd.DataFrame(columns = sample_data.columns)"
   ]
  },
  {
   "cell_type": "code",
   "execution_count": 52,
   "id": "a8e90a01",
   "metadata": {
    "execution": {
     "iopub.execute_input": "2022-12-16T04:45:00.633038Z",
     "iopub.status.busy": "2022-12-16T04:45:00.631890Z",
     "iopub.status.idle": "2022-12-16T04:45:00.643932Z",
     "shell.execute_reply": "2022-12-16T04:45:00.642952Z"
    },
    "papermill": {
     "duration": 0.03202,
     "end_time": "2022-12-16T04:45:00.646142",
     "exception": false,
     "start_time": "2022-12-16T04:45:00.614122",
     "status": "completed"
    },
    "tags": []
   },
   "outputs": [],
   "source": [
    "sub['id'] = [i for i in range(len(pred))]\n",
    "sub['Offer Accepted']=pred"
   ]
  },
  {
   "cell_type": "code",
   "execution_count": 53,
   "id": "6abdb7ca",
   "metadata": {
    "execution": {
     "iopub.execute_input": "2022-12-16T04:45:00.681048Z",
     "iopub.status.busy": "2022-12-16T04:45:00.680598Z",
     "iopub.status.idle": "2022-12-16T04:45:00.694900Z",
     "shell.execute_reply": "2022-12-16T04:45:00.693795Z"
    },
    "papermill": {
     "duration": 0.034697,
     "end_time": "2022-12-16T04:45:00.697327",
     "exception": false,
     "start_time": "2022-12-16T04:45:00.662630",
     "status": "completed"
    },
    "tags": []
   },
   "outputs": [
    {
     "data": {
      "text/html": [
       "<div>\n",
       "<style scoped>\n",
       "    .dataframe tbody tr th:only-of-type {\n",
       "        vertical-align: middle;\n",
       "    }\n",
       "\n",
       "    .dataframe tbody tr th {\n",
       "        vertical-align: top;\n",
       "    }\n",
       "\n",
       "    .dataframe thead th {\n",
       "        text-align: right;\n",
       "    }\n",
       "</style>\n",
       "<table border=\"1\" class=\"dataframe\">\n",
       "  <thead>\n",
       "    <tr style=\"text-align: right;\">\n",
       "      <th></th>\n",
       "      <th>id</th>\n",
       "      <th>Offer Accepted</th>\n",
       "    </tr>\n",
       "  </thead>\n",
       "  <tbody>\n",
       "    <tr>\n",
       "      <th>0</th>\n",
       "      <td>0</td>\n",
       "      <td>No</td>\n",
       "    </tr>\n",
       "    <tr>\n",
       "      <th>1</th>\n",
       "      <td>1</td>\n",
       "      <td>Yes</td>\n",
       "    </tr>\n",
       "    <tr>\n",
       "      <th>2</th>\n",
       "      <td>2</td>\n",
       "      <td>Yes</td>\n",
       "    </tr>\n",
       "    <tr>\n",
       "      <th>3</th>\n",
       "      <td>3</td>\n",
       "      <td>No</td>\n",
       "    </tr>\n",
       "    <tr>\n",
       "      <th>4</th>\n",
       "      <td>4</td>\n",
       "      <td>Yes</td>\n",
       "    </tr>\n",
       "    <tr>\n",
       "      <th>...</th>\n",
       "      <td>...</td>\n",
       "      <td>...</td>\n",
       "    </tr>\n",
       "    <tr>\n",
       "      <th>5300</th>\n",
       "      <td>5300</td>\n",
       "      <td>Yes</td>\n",
       "    </tr>\n",
       "    <tr>\n",
       "      <th>5301</th>\n",
       "      <td>5301</td>\n",
       "      <td>Yes</td>\n",
       "    </tr>\n",
       "    <tr>\n",
       "      <th>5302</th>\n",
       "      <td>5302</td>\n",
       "      <td>Yes</td>\n",
       "    </tr>\n",
       "    <tr>\n",
       "      <th>5303</th>\n",
       "      <td>5303</td>\n",
       "      <td>Yes</td>\n",
       "    </tr>\n",
       "    <tr>\n",
       "      <th>5304</th>\n",
       "      <td>5304</td>\n",
       "      <td>Yes</td>\n",
       "    </tr>\n",
       "  </tbody>\n",
       "</table>\n",
       "<p>5305 rows × 2 columns</p>\n",
       "</div>"
      ],
      "text/plain": [
       "        id Offer Accepted\n",
       "0        0             No\n",
       "1        1            Yes\n",
       "2        2            Yes\n",
       "3        3             No\n",
       "4        4            Yes\n",
       "...    ...            ...\n",
       "5300  5300            Yes\n",
       "5301  5301            Yes\n",
       "5302  5302            Yes\n",
       "5303  5303            Yes\n",
       "5304  5304            Yes\n",
       "\n",
       "[5305 rows x 2 columns]"
      ]
     },
     "execution_count": 53,
     "metadata": {},
     "output_type": "execute_result"
    }
   ],
   "source": [
    "sub"
   ]
  },
  {
   "cell_type": "code",
   "execution_count": 54,
   "id": "9f34127c",
   "metadata": {
    "execution": {
     "iopub.execute_input": "2022-12-16T04:45:00.732584Z",
     "iopub.status.busy": "2022-12-16T04:45:00.732137Z",
     "iopub.status.idle": "2022-12-16T04:45:00.746912Z",
     "shell.execute_reply": "2022-12-16T04:45:00.745492Z"
    },
    "papermill": {
     "duration": 0.036281,
     "end_time": "2022-12-16T04:45:00.750329",
     "exception": false,
     "start_time": "2022-12-16T04:45:00.714048",
     "status": "completed"
    },
    "tags": []
   },
   "outputs": [
    {
     "name": "stdout",
     "output_type": "stream",
     "text": [
      "i ran\n"
     ]
    }
   ],
   "source": [
    "sub.to_csv('submission.csv', index=False)\n",
    "print(\"i ran\")"
   ]
  }
 ],
 "metadata": {
  "kernelspec": {
   "display_name": "Python 3",
   "language": "python",
   "name": "python3"
  },
  "language_info": {
   "codemirror_mode": {
    "name": "ipython",
    "version": 3
   },
   "file_extension": ".py",
   "mimetype": "text/x-python",
   "name": "python",
   "nbconvert_exporter": "python",
   "pygments_lexer": "ipython3",
   "version": "3.7.12"
  },
  "papermill": {
   "default_parameters": {},
   "duration": 67.409412,
   "end_time": "2022-12-16T04:45:01.589409",
   "environment_variables": {},
   "exception": null,
   "input_path": "__notebook__.ipynb",
   "output_path": "__notebook__.ipynb",
   "parameters": {},
   "start_time": "2022-12-16T04:43:54.179997",
   "version": "2.3.4"
  }
 },
 "nbformat": 4,
 "nbformat_minor": 5
}
